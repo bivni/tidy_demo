{
 "cells": [
  {
   "cell_type": "markdown",
   "metadata": {},
   "source": [
    "# Простое управление потоком выполнения интрукций (flow control)  в R\n",
    "\n",
    "Илья Кочергин 21.09.2016\n",
    "\n",
    "В традиционных языках программирования команды управления потоком выполнения (циклы, условный оператор, оператор выбора) абсолютно  необходимы для постороения программ. В языке R без циклов можно обходиться  при помощи операций функционального программирования и векторных операций. Мы сначала  рассмотрим трациционные управляющие конструкции, а затем обсудим на что и в каких случаях их можно заменить."
   ]
  },
  {
   "cell_type": "markdown",
   "metadata": {},
   "source": [
    "## Составной оператор\n",
    "\n",
    "Если вы пишете операторы на разных строках или на одной стороке через символ \";\", то это будет последовательность отдельных операторов."
   ]
  },
  {
   "cell_type": "code",
   "execution_count": 7,
   "metadata": {
    "collapsed": false,
    "jupyter": {
     "outputs_hidden": false
    }
   },
   "outputs": [
    {
     "data": {
      "text/html": [
       "2"
      ],
      "text/latex": [
       "2"
      ],
      "text/markdown": [
       "2"
      ],
      "text/plain": [
       "[1] 2"
      ]
     },
     "metadata": {},
     "output_type": "display_data"
    },
    {
     "data": {
      "text/html": [
       "52"
      ],
      "text/latex": [
       "52"
      ],
      "text/markdown": [
       "52"
      ],
      "text/plain": [
       "[1] 52"
      ]
     },
     "metadata": {},
     "output_type": "display_data"
    }
   ],
   "source": [
    "i<-1 ; i<-i+1 # не выводит значение\n",
    "i\n",
    "i+50"
   ]
  },
  {
   "cell_type": "markdown",
   "metadata": {},
   "source": [
    "А последовательность операторов или выражений в фигурных скобках `{cmd1;cmd2;cmd3}` -- это составной оператор. Составной оператор можно применять  и управляющих конструкциях и для выработки значения"
   ]
  },
  {
   "cell_type": "code",
   "execution_count": 8,
   "metadata": {
    "collapsed": false,
    "jupyter": {
     "outputs_hidden": false
    }
   },
   "outputs": [
    {
     "name": "stdout",
     "output_type": "stream",
     "text": [
      "[1] 25\n"
     ]
    }
   ],
   "source": [
    "print({p <- 10;q <- 2; (p/q)^2 })"
   ]
  },
  {
   "cell_type": "code",
   "execution_count": 9,
   "metadata": {
    "collapsed": false,
    "jupyter": {
     "outputs_hidden": false
    }
   },
   "outputs": [
    {
     "data": {
      "text/html": [
       "25"
      ],
      "text/latex": [
       "25"
      ],
      "text/markdown": [
       "25"
      ],
      "text/plain": [
       "[1] 25"
      ]
     },
     "metadata": {},
     "output_type": "display_data"
    }
   ],
   "source": [
    "{p <- 10;q <- 2; (p/q)^2 }"
   ]
  },
  {
   "cell_type": "markdown",
   "metadata": {},
   "source": [
    "Обратите внимание, что значение составного оператора -- это значение последнего выражения"
   ]
  },
  {
   "cell_type": "markdown",
   "metadata": {},
   "source": [
    "## Видимое и невидимое выдаваемое значение\n",
    "\n",
    "Выражение в R при выполении печатают свое значение, если у него атрибут видимости равен TRUE"
   ]
  },
  {
   "cell_type": "code",
   "execution_count": 11,
   "metadata": {
    "collapsed": false,
    "jupyter": {
     "outputs_hidden": false
    }
   },
   "outputs": [
    {
     "data": {
      "text/html": [
       "4"
      ],
      "text/latex": [
       "4"
      ],
      "text/markdown": [
       "4"
      ],
      "text/plain": [
       "[1] 4"
      ]
     },
     "metadata": {},
     "output_type": "display_data"
    },
    {
     "data": {
      "text/html": [
       "<dl>\n",
       "\t<dt>$value</dt>\n",
       "\t\t<dd>4</dd>\n",
       "\t<dt>$visible</dt>\n",
       "\t\t<dd>TRUE</dd>\n",
       "</dl>\n"
      ],
      "text/latex": [
       "\\begin{description}\n",
       "\\item[\\$value] 4\n",
       "\\item[\\$visible] TRUE\n",
       "\\end{description}\n"
      ],
      "text/markdown": [
       "$value\n",
       ":   4\n",
       "$visible\n",
       ":   TRUE\n",
       "\n",
       "\n"
      ],
      "text/plain": [
       "$value\n",
       "[1] 4\n",
       "\n",
       "$visible\n",
       "[1] TRUE\n"
      ]
     },
     "metadata": {},
     "output_type": "display_data"
    },
    {
     "data": {
      "text/html": [
       "<dl>\n",
       "\t<dt>$value</dt>\n",
       "\t\t<dd>4</dd>\n",
       "\t<dt>$visible</dt>\n",
       "\t\t<dd>FALSE</dd>\n",
       "</dl>\n"
      ],
      "text/latex": [
       "\\begin{description}\n",
       "\\item[\\$value] 4\n",
       "\\item[\\$visible] FALSE\n",
       "\\end{description}\n"
      ],
      "text/markdown": [
       "$value\n",
       ":   4\n",
       "$visible\n",
       ":   FALSE\n",
       "\n",
       "\n"
      ],
      "text/plain": [
       "$value\n",
       "[1] 4\n",
       "\n",
       "$visible\n",
       "[1] FALSE\n"
      ]
     },
     "metadata": {},
     "output_type": "display_data"
    }
   ],
   "source": [
    "2+2\n",
    "withVisible(2+2)\n",
    "withVisible(aaa<-2+2)"
   ]
  },
  {
   "cell_type": "markdown",
   "metadata": {},
   "source": [
    "Оператор присваивания `p<-x` и функция `print(x)` помимо действия,   еще возвращают значение `x`, но они устанавливают аттрибут `visible=FALSE` чтобы на консоль еще раз не выводилось это значание."
   ]
  },
  {
   "cell_type": "code",
   "execution_count": 12,
   "metadata": {
    "collapsed": false,
    "jupyter": {
     "outputs_hidden": false
    }
   },
   "outputs": [
    {
     "data": {
      "text/html": [
       "5"
      ],
      "text/latex": [
       "5"
      ],
      "text/markdown": [
       "5"
      ],
      "text/plain": [
       "[1] 5"
      ]
     },
     "metadata": {},
     "output_type": "display_data"
    }
   ],
   "source": [
    "p <- q <- 5\n",
    "p"
   ]
  },
  {
   "cell_type": "markdown",
   "metadata": {},
   "source": [
    "то есть оператор `q <- 5` вернул значеине `5` и оно присвоилось `p` но не выдалось на экран"
   ]
  },
  {
   "cell_type": "code",
   "execution_count": 13,
   "metadata": {},
   "outputs": [],
   "source": [
    "r <- 5"
   ]
  },
  {
   "cell_type": "code",
   "execution_count": 14,
   "metadata": {
    "collapsed": false,
    "jupyter": {
     "outputs_hidden": false
    }
   },
   "outputs": [
    {
     "data": {
      "text/html": [
       "9"
      ],
      "text/latex": [
       "9"
      ],
      "text/markdown": [
       "9"
      ],
      "text/plain": [
       "[1] 9"
      ]
     },
     "metadata": {},
     "output_type": "display_data"
    }
   ],
   "source": [
    "(r <- 4+r)"
   ]
  },
  {
   "cell_type": "markdown",
   "metadata": {},
   "source": [
    "Взяв выражение в круглые скобки, вы устаналниваете атрибут видимости в TRUE. Еще демонстрация с функцией `print()`:\n",
    "\n"
   ]
  },
  {
   "cell_type": "code",
   "execution_count": 15,
   "metadata": {
    "collapsed": false,
    "jupyter": {
     "outputs_hidden": false
    }
   },
   "outputs": [
    {
     "name": "stdout",
     "output_type": "stream",
     "text": [
      "[1] 3\n",
      "[1] 5\n",
      "[1] 6\n"
     ]
    }
   ],
   "source": [
    "print(1+print(2+print(3)))"
   ]
  },
  {
   "cell_type": "markdown",
   "metadata": {},
   "source": [
    "Если вы хотите отменить автоматическую выдачу на экран значения выражения, то можно его окрузить функцей `invisible(выраж)` "
   ]
  },
  {
   "cell_type": "code",
   "execution_count": 16,
   "metadata": {
    "collapsed": false,
    "jupyter": {
     "outputs_hidden": false
    }
   },
   "outputs": [],
   "source": [
    "{p <- 10;q <- 2 ; invisible((p/q)^q )}"
   ]
  },
  {
   "cell_type": "markdown",
   "metadata": {},
   "source": [
    "но значение вырабатывается:"
   ]
  },
  {
   "cell_type": "code",
   "execution_count": 17,
   "metadata": {
    "collapsed": false,
    "jupyter": {
     "outputs_hidden": false
    }
   },
   "outputs": [
    {
     "name": "stdout",
     "output_type": "stream",
     "text": [
      "Результат: 25"
     ]
    }
   ],
   "source": [
    "cat(\"Результат:\",{p <- 10;q <- 2 ; invisible((p/q)^q )})"
   ]
  },
  {
   "cell_type": "markdown",
   "metadata": {},
   "source": [
    "`cat(x1,x2, ...)` все свои аргументы преобразует в тип `character` и выдает один за другим."
   ]
  },
  {
   "cell_type": "markdown",
   "metadata": {},
   "source": [
    "## Условный оператор\n",
    "\n",
    "`if (условие) {действия-если-TRUE} ` \n",
    "\n",
    "или \n",
    "\n",
    "`if (условие) {действия-если-TREE} else {действия-если-FALSE}` "
   ]
  },
  {
   "cell_type": "code",
   "execution_count": 23,
   "metadata": {
    "collapsed": false,
    "jupyter": {
     "outputs_hidden": false
    }
   },
   "outputs": [
    {
     "name": "stdout",
     "output_type": "stream",
     "text": [
      "[1] \"Teenager\"\n"
     ]
    }
   ],
   "source": [
    "age <- 13\n",
    "if(age < 20 && age>=10) { print(\"Teenager\")}"
   ]
  },
  {
   "cell_type": "code",
   "execution_count": 25,
   "metadata": {},
   "outputs": [],
   "source": [
    "# help(`&`)"
   ]
  },
  {
   "cell_type": "code",
   "execution_count": 26,
   "metadata": {
    "collapsed": false,
    "jupyter": {
     "outputs_hidden": false
    }
   },
   "outputs": [
    {
     "ename": "ERROR",
     "evalue": "Error in if (age < 20 && age >= 10) {: missing value where TRUE/FALSE needed\n",
     "output_type": "error",
     "traceback": [
      "Error in if (age < 20 && age >= 10) {: missing value where TRUE/FALSE needed\nTraceback:\n"
     ]
    }
   ],
   "source": [
    "age <- NA\n",
    "if(age < 20 && age>=10) {\n",
    "    print(\"Teenager\")\n",
    "}"
   ]
  },
  {
   "cell_type": "code",
   "execution_count": 29,
   "metadata": {
    "collapsed": false,
    "jupyter": {
     "outputs_hidden": false
    }
   },
   "outputs": [
    {
     "name": "stdout",
     "output_type": "stream",
     "text": [
      "[1] \"Teenager\"\n"
     ]
    }
   ],
   "source": [
    "age <- 12\n",
    "if(is.na(age) || age < 20 && age>=10) {\n",
    "    print(\"Teenager\")\n",
    "}"
   ]
  },
  {
   "cell_type": "code",
   "execution_count": 31,
   "metadata": {
    "collapsed": false,
    "jupyter": {
     "outputs_hidden": false
    }
   },
   "outputs": [
    {
     "name": "stdout",
     "output_type": "stream",
     "text": [
      "[1] \"Teenager\"\n"
     ]
    }
   ],
   "source": [
    "age <- 13\n",
    "\n",
    "if(age<11){\n",
    "  print(\"Child\")\n",
    "} else if(age<20) {\n",
    "  print(\"Teenager\")    \n",
    "} else if (age<45) {\n",
    "  print(\"young\")\n",
    "} else {\n",
    "  print(\"young forever\")\n",
    "}\n"
   ]
  },
  {
   "cell_type": "markdown",
   "metadata": {},
   "source": [
    "Можно использовать результат `if`"
   ]
  },
  {
   "cell_type": "code",
   "execution_count": 32,
   "metadata": {
    "collapsed": false,
    "jupyter": {
     "outputs_hidden": false
    }
   },
   "outputs": [
    {
     "name": "stdout",
     "output_type": "stream",
     "text": [
      "[1] \"young forever\"\n"
     ]
    }
   ],
   "source": [
    "age <- 63\n",
    "\n",
    "message <- if(age<11){\n",
    "  \"Child\"\n",
    "} else if(age<20) {\n",
    "  \"Teenager\"    \n",
    "} else if (age<45) {\n",
    "  \"young\"\n",
    "} else {\n",
    "  \"young forever\"\n",
    "}\n",
    "\n",
    "print(message)"
   ]
  },
  {
   "cell_type": "markdown",
   "metadata": {},
   "source": [
    "## Оператор выбора switch (переключатель)\n",
    "\n",
    "Оператор `switch(EXPR=выражение-selector , вариант1, вариант2, ... )` вычисляет выражение-selector и по его значнию выбирает и выполняет/вычиляет нужный вариант. "
   ]
  },
  {
   "cell_type": "markdown",
   "metadata": {},
   "source": [
    "### switch с числовым выражением выбора"
   ]
  },
  {
   "cell_type": "code",
   "execution_count": 14,
   "metadata": {
    "collapsed": false,
    "jupyter": {
     "outputs_hidden": false
    }
   },
   "outputs": [
    {
     "data": {
      "text/html": [
       "'yellow'"
      ],
      "text/latex": [
       "'yellow'"
      ],
      "text/markdown": [
       "'yellow'"
      ],
      "text/plain": [
       "[1] \"yellow\""
      ]
     },
     "metadata": {},
     "output_type": "display_data"
    }
   ],
   "source": [
    "ncolor=2\n",
    "switch(EXPR = ncolor, \"green\",\"yellow\",\"blue\" )"
   ]
  },
  {
   "cell_type": "markdown",
   "metadata": {},
   "source": [
    "### switch со строковым выражением выбора"
   ]
  },
  {
   "cell_type": "code",
   "execution_count": 13,
   "metadata": {
    "collapsed": false,
    "jupyter": {
     "outputs_hidden": false
    }
   },
   "outputs": [
    {
     "data": {
      "text/html": [
       "'red'"
      ],
      "text/latex": [
       "'red'"
      ],
      "text/markdown": [
       "'red'"
      ],
      "text/plain": [
       "[1] \"red\""
      ]
     },
     "metadata": {},
     "output_type": "display_data"
    }
   ],
   "source": [
    "signal_name = \"stop\"\n",
    "switch(EXPR = signal_name,go=\"green\",ready=\"yellow\",stop=,full_stop=\"red\")"
   ]
  },
  {
   "cell_type": "markdown",
   "metadata": {},
   "source": [
    "## Циклы\n",
    "\n",
    "Циклы позволяют повторять группу действий много раз. Есть 3 встроенных в язык R цикла:\n",
    "\n",
    "* `repeat` (выход по команде `break`) \n",
    "* `while` (выход, когда условие продолжения станет ложным)\n",
    "* `for` (переменной цикла по очереди присваивается элементы последовательности)\n"
   ]
  },
  {
   "cell_type": "markdown",
   "metadata": {},
   "source": [
    "### repeat { block}"
   ]
  },
  {
   "cell_type": "markdown",
   "metadata": {},
   "source": [
    "Следующий пример нужно выполнять **не в jupyter notebook** а в интерактивной среде (R, RStudio), поскольку \n",
    "\n",
    "`readline(prompt = \"enter number (or q to exti): \")`  \n",
    "\n",
    "выдает приглашение к вводу, запрашивает  и считывает ввод пользователя."
   ]
  },
  {
   "cell_type": "code",
   "execution_count": null,
   "metadata": {
    "collapsed": true,
    "jupyter": {
     "outputs_hidden": true
    }
   },
   "outputs": [],
   "source": [
    "repeat {\n",
    "  answ <-  readline(prompt = \"enter number (or q to exti): \")\n",
    "  if(answ==\"q\" || answ ==\"Q\") { print(\"goodbye!\") ; break}\n",
    "  num <- as.numeric(answ)\n",
    "  print(sprintf(\"%g^3=%g\",num,num^3))\n",
    "}  \n",
    "  "
   ]
  },
  {
   "cell_type": "markdown",
   "metadata": {},
   "source": [
    "Возможный диалог с этой программой:\n",
    "\n",
    "```\n",
    "enter number (or q to exti): 11\n",
    "[1] \"11^3=1331\"\n",
    "enter number (or q to exti): 2\n",
    "[1] \"2^3=8\"\n",
    "enter number (or q to exti): 3\n",
    "[1] \"3^3=27\"\n",
    "enter number (or q to exti): a\n",
    "[1] \"NA^3=NA\"\n",
    "enter number (or q to exti): q\n",
    "[1] \"goodbye!\"\n",
    "Предупреждение:\n",
    "в результате преобразования созданы NA \n",
    "```"
   ]
  },
  {
   "cell_type": "markdown",
   "metadata": {},
   "source": [
    "Цикл `repeat` хорош для ситуаций, в которых сначала выполнятес действие (ввод пользователя, чтение строки из базы данных), а затем провераяется условие (считались ли данные или получен признак конца?)."
   ]
  },
  {
   "cell_type": "markdown",
   "metadata": {},
   "source": [
    "## Цикл для каждого элемента последовательности ---  `for`\n",
    "\n",
    "`for  (var in последовательность) {тело цикла}`\n",
    "\n",
    "\n",
    "Переменная `var` по очереди принимает значение каждого элемента последовательноси  и выполнят с таким значением переменной группу операторов, которая составляет тело цикла."
   ]
  },
  {
   "cell_type": "code",
   "execution_count": 19,
   "metadata": {
    "collapsed": false,
    "jupyter": {
     "outputs_hidden": false
    }
   },
   "outputs": [
    {
     "name": "stdout",
     "output_type": "stream",
     "text": [
      " [1]  1  2  3  4  5  6  7  8  9 10\n",
      "[1] \"abc\"\n",
      "[1] 1 2\n"
     ]
    }
   ],
   "source": [
    "for( i in list(a=1:10,b=\"abc\",c=1:2))\n",
    "{   \n",
    "  print(i)\n",
    "}"
   ]
  },
  {
   "cell_type": "markdown",
   "metadata": {},
   "source": [
    "Ещё пример:"
   ]
  },
  {
   "cell_type": "code",
   "execution_count": 21,
   "metadata": {
    "collapsed": false,
    "jupyter": {
     "outputs_hidden": false
    }
   },
   "outputs": [
    {
     "name": "stdout",
     "output_type": "stream",
     "text": [
      "1   1 2 3 4 5 6 7 8 9 10 \n",
      "2   abc \n",
      "3   1 2 \n"
     ]
    }
   ],
   "source": [
    "l1  <- list(a=1:10,b=\"abc\",c=1:2)\n",
    "\n",
    "for( i in seq_along(l1))\n",
    "{   \n",
    "  cat(i,\" \",l1[[i]],\"\\n\")\n",
    "}"
   ]
  },
  {
   "cell_type": "raw",
   "metadata": {},
   "source": [
    "Когда нужно пролсто повторить тело цикла заданное чисто раз:"
   ]
  },
  {
   "cell_type": "code",
   "execution_count": 24,
   "metadata": {
    "collapsed": false,
    "jupyter": {
     "outputs_hidden": false
    }
   },
   "outputs": [
    {
     "name": "stdout",
     "output_type": "stream",
     "text": [
      "Гав! Гав! Гав! Гав! Гав! \n"
     ]
    }
   ],
   "source": [
    "n=5\n",
    "for (i in 1:n){\n",
    "    cat(\"Гав! \")\n",
    "}\n",
    "cat('\\n')"
   ]
  },
  {
   "cell_type": "markdown",
   "metadata": {},
   "source": [
    "- - - \n",
    "\n",
    "*Замечание* Чем отличаетя `cat()` от `print()` ?"
   ]
  },
  {
   "cell_type": "code",
   "execution_count": 26,
   "metadata": {
    "collapsed": false,
    "jupyter": {
     "outputs_hidden": false
    }
   },
   "outputs": [
    {
     "name": "stdout",
     "output_type": "stream",
     "text": [
      "[1] \"one\\ntwo\"\n"
     ]
    }
   ],
   "source": [
    "print(\"one\\ntwo\") "
   ]
  },
  {
   "cell_type": "code",
   "execution_count": 27,
   "metadata": {
    "collapsed": false,
    "jupyter": {
     "outputs_hidden": false
    }
   },
   "outputs": [
    {
     "name": "stdout",
     "output_type": "stream",
     "text": [
      "one\n",
      "two"
     ]
    }
   ],
   "source": [
    "cat(\"one\\ntwo\")"
   ]
  },
  {
   "cell_type": "markdown",
   "metadata": {},
   "source": [
    "- - -\n",
    "*Замечание* Чем отличаетя `cat()` от `paste()` ?"
   ]
  },
  {
   "cell_type": "code",
   "execution_count": 29,
   "metadata": {
    "collapsed": false,
    "jupyter": {
     "outputs_hidden": false
    }
   },
   "outputs": [
    {
     "name": "stdout",
     "output_type": "stream",
     "text": [
      "1 2 3 4 5 a b c d e"
     ]
    }
   ],
   "source": [
    "cat(1:5, letters[1:5])"
   ]
  },
  {
   "cell_type": "code",
   "execution_count": 30,
   "metadata": {
    "collapsed": false,
    "jupyter": {
     "outputs_hidden": false
    }
   },
   "outputs": [
    {
     "data": {
      "text/html": [
       "<ol class=list-inline>\n",
       "\t<li>'1 a'</li>\n",
       "\t<li>'2 b'</li>\n",
       "\t<li>'3 c'</li>\n",
       "\t<li>'4 d'</li>\n",
       "\t<li>'5 e'</li>\n",
       "</ol>\n"
      ],
      "text/latex": [
       "\\begin{enumerate*}\n",
       "\\item '1 a'\n",
       "\\item '2 b'\n",
       "\\item '3 c'\n",
       "\\item '4 d'\n",
       "\\item '5 e'\n",
       "\\end{enumerate*}\n"
      ],
      "text/markdown": [
       "1. '1 a'\n",
       "2. '2 b'\n",
       "3. '3 c'\n",
       "4. '4 d'\n",
       "5. '5 e'\n",
       "\n",
       "\n"
      ],
      "text/plain": [
       "[1] \"1 a\" \"2 b\" \"3 c\" \"4 d\" \"5 e\""
      ]
     },
     "metadata": {},
     "output_type": "display_data"
    }
   ],
   "source": [
    "paste(1:5, letters[1:5])"
   ]
  },
  {
   "cell_type": "code",
   "execution_count": 31,
   "metadata": {
    "collapsed": false,
    "jupyter": {
     "outputs_hidden": false
    }
   },
   "outputs": [
    {
     "data": {
      "text/html": [
       "<ol class=list-inline>\n",
       "\t<li>'1a'</li>\n",
       "\t<li>'2b'</li>\n",
       "\t<li>'3c'</li>\n",
       "\t<li>'4d'</li>\n",
       "\t<li>'5e'</li>\n",
       "</ol>\n"
      ],
      "text/latex": [
       "\\begin{enumerate*}\n",
       "\\item '1a'\n",
       "\\item '2b'\n",
       "\\item '3c'\n",
       "\\item '4d'\n",
       "\\item '5e'\n",
       "\\end{enumerate*}\n"
      ],
      "text/markdown": [
       "1. '1a'\n",
       "2. '2b'\n",
       "3. '3c'\n",
       "4. '4d'\n",
       "5. '5e'\n",
       "\n",
       "\n"
      ],
      "text/plain": [
       "[1] \"1a\" \"2b\" \"3c\" \"4d\" \"5e\""
      ]
     },
     "metadata": {},
     "output_type": "display_data"
    }
   ],
   "source": [
    "paste0(1:5, letters[1:5])"
   ]
  },
  {
   "cell_type": "markdown",
   "metadata": {},
   "source": [
    "Вложенные циклы  for -- распечатка матрицы:"
   ]
  },
  {
   "cell_type": "code",
   "execution_count": 32,
   "metadata": {
    "collapsed": false,
    "jupyter": {
     "outputs_hidden": false
    }
   },
   "outputs": [
    {
     "name": "stdout",
     "output_type": "stream",
     "text": [
      "1  3  5  \n",
      "2  4  6  \n"
     ]
    }
   ],
   "source": [
    "x <- matrix(1:6, 2, 3)\n",
    "for(i in seq_len(nrow(x))) {\n",
    "  for(j in seq_len(ncol(x))) {\n",
    "    cat(x[i, j],\" \")\n",
    "  }\n",
    "  cat(\"\\n\")\n",
    "}"
   ]
  },
  {
   "cell_type": "code",
   "execution_count": 33,
   "metadata": {
    "collapsed": false,
    "jupyter": {
     "outputs_hidden": false
    }
   },
   "outputs": [
    {
     "name": "stdout",
     "output_type": "stream",
     "text": [
      "     [,1] [,2] [,3]\n",
      "[1,]    1    3    5\n",
      "[2,]    2    4    6\n"
     ]
    }
   ],
   "source": [
    "print(x)"
   ]
  },
  {
   "cell_type": "markdown",
   "metadata": {},
   "source": [
    "### Сумма вектора 3 способами"
   ]
  },
  {
   "cell_type": "markdown",
   "metadata": {},
   "source": [
    "#### Способ 1: цикл for "
   ]
  },
  {
   "cell_type": "code",
   "execution_count": 37,
   "metadata": {
    "collapsed": false,
    "jupyter": {
     "outputs_hidden": false
    }
   },
   "outputs": [
    {
     "data": {
      "text/html": [
       "16"
      ],
      "text/latex": [
       "16"
      ],
      "text/markdown": [
       "16"
      ],
      "text/plain": [
       "[1] 16"
      ]
     },
     "metadata": {},
     "output_type": "display_data"
    }
   ],
   "source": [
    "vv  <-  c(1,3,5,7)\n",
    "vsum  <- 0 \n",
    "for ( n in vv) { vsum  <- vsum+n }  \n",
    "vsum"
   ]
  },
  {
   "cell_type": "markdown",
   "metadata": {},
   "source": [
    "#### Способ 2: цикл while "
   ]
  },
  {
   "cell_type": "code",
   "execution_count": 38,
   "metadata": {
    "collapsed": false,
    "jupyter": {
     "outputs_hidden": false
    }
   },
   "outputs": [
    {
     "data": {
      "text/html": [
       "16"
      ],
      "text/latex": [
       "16"
      ],
      "text/markdown": [
       "16"
      ],
      "text/plain": [
       "[1] 16"
      ]
     },
     "metadata": {},
     "output_type": "display_data"
    }
   ],
   "source": [
    "i <- 1 \n",
    "vsum  <- 0 \n",
    "while(i<=length(vv)) {\n",
    "  vsum  <- vsum+vv[i] \n",
    "  i <- i+1\n",
    "}\n",
    "vsum"
   ]
  },
  {
   "cell_type": "markdown",
   "metadata": {},
   "source": [
    "#### Способ 3: встроенная функция sum()"
   ]
  },
  {
   "cell_type": "code",
   "execution_count": 36,
   "metadata": {
    "collapsed": false,
    "jupyter": {
     "outputs_hidden": false
    }
   },
   "outputs": [
    {
     "data": {
      "text/html": [
       "16"
      ],
      "text/latex": [
       "16"
      ],
      "text/markdown": [
       "16"
      ],
      "text/plain": [
       "[1] 16"
      ]
     },
     "metadata": {},
     "output_type": "display_data"
    }
   ],
   "source": [
    "sum(vv)"
   ]
  },
  {
   "cell_type": "markdown",
   "metadata": {},
   "source": [
    "### Пример из документации -- случайное блуждание"
   ]
  },
  {
   "cell_type": "code",
   "execution_count": 40,
   "metadata": {
    "collapsed": false,
    "jupyter": {
     "outputs_hidden": false
    }
   },
   "outputs": [
    {
     "name": "stdout",
     "output_type": "stream",
     "text": [
      "5  4  5  4  5  4  3  4  5  6  7  6  7  8  9  10  9  10  "
     ]
    }
   ],
   "source": [
    "z <- 5\n",
    "while(z >= 3 && z <= 10) {\n",
    "  cat(z,' ')\n",
    "  coin <- rbinom(1, 1, 0.5)\n",
    "  if(coin == 1) { ## random walk\n",
    "    z <- z + 1\n",
    "  } else {\n",
    "    z <- z - 1\n",
    "  }\n",
    "}\n"
   ]
  },
  {
   "cell_type": "code",
   "execution_count": null,
   "metadata": {
    "collapsed": true,
    "jupyter": {
     "outputs_hidden": true
    }
   },
   "outputs": [],
   "source": []
  }
 ],
 "metadata": {
  "anaconda-cloud": {
   "environment": null,
   "summary": "Управляющие конструкции языка R из классического процедурного программирования"
  },
  "kernelspec": {
   "display_name": "R 3.4",
   "language": "R",
   "name": "ir34"
  },
  "language_info": {
   "codemirror_mode": "r",
   "file_extension": ".r",
   "mimetype": "text/x-r-source",
   "name": "R",
   "pygments_lexer": "r",
   "version": "4.0.2"
  }
 },
 "nbformat": 4,
 "nbformat_minor": 4
}
